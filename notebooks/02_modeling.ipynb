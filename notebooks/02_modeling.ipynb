{
 "cells": [
  {
   "cell_type": "markdown",
   "metadata": {},
   "source": [
    "# California Housing Dataset - Modélisation\n",
    "\n",
    "Dans ce notebook, nous allons :\n",
    "1. Implémenter le pipeline de preprocessing\n",
    "2. Comparer différents modèles\n",
    "3. Optimiser les hyperparamètres\n",
    "4. Évaluer le modèle final"
   ]
  },
  {
   "cell_type": "code",
   "execution_count": null,
   "metadata": {},
   "source": [
    "import pandas as pd\n",
    "import numpy as np\n",
    "import matplotlib.pyplot as plt\n",
    "import seaborn as sns\n",
    "\n",
    "from sklearn.datasets import fetch_california_housing\n",
    "from sklearn.model_selection import train_test_split, GridSearchCV\n",
    "from sklearn.linear_model import LinearRegression, Ridge\n",
    "from sklearn.ensemble import RandomForestRegressor\n",
    "from sklearn.svm import SVR\n",
    "from sklearn.neighbors import KNeighborsRegressor\n",
    "\n",
    "from california_housing.preprocessing.preprocessor import HousingPreprocessor, prepare_data\n",
    "from california_housing.utils.evaluation import evaluate_model, format_metrics\n",
    "\n",
    "%matplotlib inline\n",
    "plt.style.use('seaborn')\n",
    "sns.set_palette('husl')"
   ]
  },
  {
   "cell_type": "markdown",
   "metadata": {},
   "source": [
    "## 1. Préparation des Données"
   ]
  },
  {
   "cell_type": "code",
   "execution_count": null,
   "metadata": {},
   "source": [
    "# Chargement et split des données\n",
    "data = fetch_california_housing(as_frame=True)\n",
    "df = data.frame.copy()\n",
    "\n",
    "X, y = prepare_data(df)\n",
    "X_train, X_test, y_train, y_test = train_test_split(X, y, test_size=0.2, random_state=42)\n",
    "\n",
    "print(\"Dimensions des données:\")\n",
    "print(f\"X_train: {X_train.shape}\")\n",
    "print(f\"X_test: {X_test.shape}\")"
   ]
  },
  {
   "cell_type": "markdown",
   "metadata": {},
   "source": [
    "## 2. Preprocessing"
   ]
  },
  {
   "cell_type": "code",
   "execution_count": null,
   "metadata": {},
   "source": [
    "# Configuration et application du preprocessor\n",
    "preprocessor = HousingPreprocessor(handle_outliers=True, handle_skewness=True)\n",
    "X_train_processed = preprocessor.fit_transform(X_train)\n",
    "X_test_processed = preprocessor.transform(X_test)\n",
    "\n",
    "if preprocessor.skewed_features:\n",
    "    print(\"Features avec forte asymétrie traitées:\")\n",
    "    print(preprocessor.skewed_features)"
   ]
  },
  {
   "cell_type": "markdown",
   "metadata": {},
   "source": [
    "## 3. Comparaison des Modèles"
   ]
  },
  {
   "cell_type": "code",
   "execution_count": null,
   "metadata": {},
   "source": [
    "# Définition des modèles à comparer\n",
    "models = {\n",
    "    'Linear Regression': LinearRegression(),\n",
    "    'Ridge': Ridge(),\n",
    "    'Random Forest': RandomForestRegressor(random_state=42),\n",
    "    'SVR': SVR(),\n",
    "    'KNN': KNeighborsRegressor()\n",
    "}\n",
    "\n",
    "# Évaluation initiale\n",
    "results = []\n",
    "for name, model in models.items():\n",
    "    print(f\"\\nÉvaluation de {name}...\")\n",
    "    model.fit(X_train_processed, y_train)\n",
    "    metrics = evaluate_model(model, X_test_processed, y_test)\n",
    "    results.append({\n",
    "        'Model': name,\n",
    "        **format_metrics(metrics)\n",
    "    })\n",
    "\n",
    "results_df = pd.DataFrame(results).set_index('Model')\n",
    "display(results_df)"
   ]
  },
  {
   "cell_type": "markdown",
   "metadata": {},
   "source": [
    "## 4. Optimisation des Hyperparamètres"
   ]
  },
  {
   "cell_type": "code",
   "execution_count": null,
   "metadata": {},
   "source": [
    "# Grilles de paramètres pour GridSearchCV\n",
    "param_grids = {\n",
    "    'Ridge': {\n",
    "        'alpha': [0.1, 1.0, 10.0],\n",
    "        'solver': ['auto', 'svd', 'cholesky']\n",
    "    },\n",
    "    'Random Forest': {\n",
    "        'n_estimators': [100, 200],\n",
    "        'max_depth': [None, 10, 20],\n",
    "        'min_samples_split': [2, 5]\n",
    "    },\n",
    "    'SVR': {\n",
    "        'C': [0.1, 1.0, 10.0],\n",
    "        'kernel': ['rbf', 'linear'],\n",
    "        'epsilon': [0.1, 0.2]\n",
    "    },\n",
    "    'KNN': {\n",
    "        'n_neighbors': [3, 5, 7],\n",
    "        'weights': ['uniform', 'distance']\n",
    "    }\n",
    "}\n",
    "\n",
    "# Optimisation des meilleurs modèles\n",
    "best_models = {}\n",
    "tuning_results = []\n",
    "\n",
    "for name, model in models.items():\n",
    "    if name == 'Linear Regression':\n",
    "        continue\n",
    "        \n",
    "    print(f\"\\nOptimisation de {name}...\")\n",
    "    grid = GridSearchCV(\n",
    "        model,\n",
    "        param_grids[name],\n",
    "        cv=5,\n",
    "        scoring='r2',\n",
    "        n_jobs=-1\n",
    "    )\n",
    "    grid.fit(X_train_processed, y_train)\n",
    "    \n",
    "    best_models[name] = grid.best_estimator_\n",
    "    metrics = evaluate_model(grid.best_estimator_, X_test_processed, y_test)\n",
    "    \n",
    "    tuning_results.append({\n",
    "        'Model': name,\n",
    "        'Best Parameters': grid.best_params_,\n",
    "        **format_metrics(metrics)\n",
    "    })\n",
    "\n",
    "tuning_df = pd.DataFrame(tuning_results).set_index('Model')\n",
    "display(tuning_df)"
   ]
  },
  {
   "cell_type": "markdown",
   "metadata": {},
   "source": [
    "## 5. Analyse du Meilleur Modèle"
   ]
  },
  {
   "cell_type": "code",
   "execution_count": null,
   "metadata": {},
   "source": [
    "# Sélection du meilleur modèle\n",
    "best_model_name = tuning_df['R²'].astype(str).str.extract('(\\d+\\.\\d+)').astype(float).idxmax()\n",
    "best_model = best_models[best_model_name]\n",
    "\n",
    "print(f\"Meilleur modèle : {best_model_name}\")\n",
    "\n",
    "# Visualisation des prédictions\n",
    "y_pred = best_model.predict(X_test_processed)\n",
    "\n",
    "plt.figure(figsize=(10, 6))\n",
    "plt.scatter(y_test, y_pred, alpha=0.5)\n",
    "plt.plot([y_test.min(), y_test.max()], [y_test.min(), y_test.max()], 'r--', lw=2)\n",
    "plt.xlabel('Valeurs Réelles')\n",
    "plt.ylabel('Prédictions')\n",
    "plt.title(f'Prédictions vs Réalité - {best_model_name}')\n",
    "plt.show()\n",
    "\n",
    "# Analyse des résidus\n",
    "residuals = y_test - y_pred\n",
    "\n",
    "plt.figure(figsize=(10, 6))\n",
    "plt.scatter(y_pred, residuals, alpha=0.5)\n",
    "plt.axhline(y=0, color='r', linestyle='--')\n",
    "plt.xlabel('Prédictions')\n",
    "plt.ylabel('Résidus')\n",
    "plt.title('Analyse des Résidus')\n",
    "plt.show()"
   ]
  },
  {
   "cell_type": "markdown",
   "metadata": {},
   "source": [
    "## 6. Importance des Features"
   ]
  },
  {
   "cell_type": "code",
   "execution_count": null,
   "metadata": {},
   "source": [
    "if hasattr(best_model, 'feature_importances_'):\n",
    "    importances = pd.Series(\n",
    "        best_model.feature_importances_,\n",
    "        index=X.columns\n",
    "    ).sort_values(ascending=True)\n",
    "    \n",
    "    plt.figure(figsize=(10, 6))\n",
    "    importances.plot(kind='barh')\n",
    "    plt.title('Importance des Features')\n",
    "    plt.show()"
   ]
  },
  {
   "cell_type": "markdown",
   "metadata": {},
   "source": [
    "## 7. Conclusions\n",
    "\n",
    "De cette analyse de modélisation, nous pouvons conclure :\n",
    "\n",
    "1. Performance des modèles :\n",
    "   - Comparaison des différents algorithmes\n",
    "   - Impact de l'optimisation des hyperparamètres\n",
    "\n",
    "2. Meilleur modèle :\n",
    "   - Algorithme sélectionné\n",
    "   - Hyperparamètres optimaux\n",
    "   - Métriques de performance\n",
    "\n",
    "3. Features importantes :\n",
    "   - Variables les plus prédictives\n",
    "   - Potentielles pistes d'amélioration"
   ]
  }
 ],
 "metadata": {
  "kernelspec": {
   "display_name": "Python 3",
   "language": "python",
   "name": "python3"
  },
  "language_info": {
   "codemirror_mode": {
    "name": "ipython",
    "version": 3
   },
   "file_extension": ".py",
   "mimetype": "text/x-python",
   "name": "python",
   "nbconvert_exporter": "python",
   "pygments_lexer": "ipython3",
   "version": "3.8.0"
  }
 },
 "nbformat": 4,
 "nbformat_minor": 4
}
