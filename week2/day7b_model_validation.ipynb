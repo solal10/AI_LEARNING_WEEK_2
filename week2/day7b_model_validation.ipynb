{
 "cells": [
  {
   "cell_type": "markdown",
   "id": "5427a477",
   "metadata": {},
   "source": [
    "# Validation Croisée et Analyse de l'Underfitting/Overfitting\n",
    "\n",
    "Dans ce notebook, nous allons explorer :\n",
    "- Les courbes d'apprentissage pour détecter l'underfitting/overfitting\n",
    "- La validation croisée avec KFold\n",
    "- L'optimisation des hyperparamètres avec GridSearchCV"
   ]
  },
  {
   "cell_type": "code",
   "execution_count": null,
   "id": "1dcd9271",
   "metadata": {},
   "outputs": [],
   "source": [
    "# Imports nécessaires\n",
    "import numpy as np\n",
    "import pandas as pd\n",
    "from sklearn.datasets import fetch_california_housing\n",
    "from sklearn.model_selection import (\n",
    "    train_test_split,\n",
    "    KFold,\n",
    "    cross_val_score,\n",
    "    learning_curve,\n",
    "    GridSearchCV\n",
    ")\n",
    "from sklearn.linear_model import LinearRegression, Ridge\n",
    "from sklearn.ensemble import RandomForestRegressor\n",
    "from sklearn.svm import SVR\n",
    "from sklearn.metrics import mean_squared_error, r2_score\n",
    "import matplotlib.pyplot as plt\n",
    "import seaborn as sns"
   ]
  },
  {
   "cell_type": "markdown",
   "id": "afd6ae09",
   "metadata": {},
   "source": [
    "## 1. Chargement des Données"
   ]
  },
  {
   "cell_type": "code",
   "execution_count": null,
   "id": "10b4207e",
   "metadata": {
    "lines_to_next_cell": 1
   },
   "outputs": [],
   "source": [
    "# Chargement du dataset\n",
    "data = fetch_california_housing(as_frame=True)\n",
    "df = data.frame.copy()\n",
    "\n",
    "X = df.drop(\"MedHouseVal\", axis=1)\n",
    "y = df[\"MedHouseVal\"]"
   ]
  },
  {
   "cell_type": "markdown",
   "id": "5ddac6e7",
   "metadata": {},
   "source": [
    "## 2. Analyse de l'Underfitting/Overfitting"
   ]
  },
  {
   "cell_type": "code",
   "execution_count": null,
   "id": "8c8e73e4",
   "metadata": {
    "lines_to_next_cell": 1
   },
   "outputs": [],
   "source": [
    "def plot_learning_curve(train_sizes, train_scores, val_scores):\n",
    "    \"\"\"\n",
    "    Fonction pour tracer la courbe d'apprentissage\n",
    "    \"\"\"\n",
    "    train_mean = np.mean(train_scores, axis=1)\n",
    "    val_mean = np.mean(val_scores, axis=1)\n",
    "\n",
    "    plt.figure(figsize=(10, 6))\n",
    "    plt.plot(train_sizes, train_mean, 'o-', label='Score d\\'entraînement')\n",
    "    plt.plot(train_sizes, val_mean, 'o-', label='Score de validation')\n",
    "    plt.xlabel(\"Nombre d'exemples d'entraînement\")\n",
    "    plt.ylabel(\"Score\")\n",
    "    plt.legend()\n",
    "    plt.grid()\n",
    "    plt.title(\"Courbe d'Apprentissage\")\n",
    "    plt.show()"
   ]
  },
  {
   "cell_type": "code",
   "execution_count": null,
   "id": "3b722124",
   "metadata": {},
   "outputs": [],
   "source": [
    "# Génération de la courbe d'apprentissage avec Ridge\n",
    "model = Ridge(alpha=1.0)\n",
    "train_sizes, train_scores, val_scores = learning_curve(\n",
    "    model, X, y, \n",
    "    cv=5, \n",
    "    scoring=\"r2\",\n",
    "    train_sizes=np.linspace(0.1, 1.0, 5),\n",
    "    n_jobs=-1\n",
    ")\n",
    "\n",
    "plot_learning_curve(train_sizes, train_scores, val_scores)"
   ]
  },
  {
   "cell_type": "markdown",
   "id": "6051db7a",
   "metadata": {},
   "source": [
    "## 3. Validation Croisée avec KFold"
   ]
  },
  {
   "cell_type": "code",
   "execution_count": null,
   "id": "a645c7c8",
   "metadata": {},
   "outputs": [],
   "source": [
    "# Configuration de la validation croisée\n",
    "kf = KFold(n_splits=5, shuffle=True, random_state=42)\n",
    "\n",
    "# Évaluation avec régression linéaire\n",
    "model = LinearRegression()\n",
    "cv_scores = cross_val_score(model, X, y, cv=kf, scoring=\"r2\")\n",
    "\n",
    "print(\"Scores de validation croisée (R²):\", cv_scores)\n",
    "print(\"Score moyen:\", np.mean(cv_scores))\n",
    "print(\"Écart-type:\", np.std(cv_scores))"
   ]
  },
  {
   "cell_type": "markdown",
   "id": "6d379b72",
   "metadata": {},
   "source": [
    "## 4. Optimisation des Hyperparamètres avec GridSearchCV"
   ]
  },
  {
   "cell_type": "code",
   "execution_count": null,
   "id": "3914b387",
   "metadata": {},
   "outputs": [],
   "source": [
    "# Définition de la grille de paramètres pour RandomForest\n",
    "param_grid = {\n",
    "    \"n_estimators\": [10, 50, 100],\n",
    "    \"max_depth\": [None, 5, 10],\n",
    "    \"min_samples_split\": [2, 5]\n",
    "}\n",
    "\n",
    "# Configuration et exécution de la recherche sur grille\n",
    "grid_search = GridSearchCV(\n",
    "    RandomForestRegressor(random_state=42),\n",
    "    param_grid,\n",
    "    cv=5,\n",
    "    scoring=\"neg_root_mean_squared_error\",\n",
    "    n_jobs=-1\n",
    ")\n",
    "\n",
    "grid_search.fit(X, y)"
   ]
  },
  {
   "cell_type": "code",
   "execution_count": null,
   "id": "1d8b9c01",
   "metadata": {},
   "outputs": [],
   "source": [
    "# Affichage des résultats\n",
    "print(\"Meilleurs paramètres trouvés:\", grid_search.best_params_)\n",
    "print(\"Meilleur RMSE:\", -grid_search.best_score_)\n",
    "\n",
    "# Affichage des résultats détaillés\n",
    "results = pd.DataFrame(grid_search.cv_results_)\n",
    "results = results.sort_values('rank_test_score')\n",
    "print(\"\\nTop 5 des combinaisons de paramètres:\")\n",
    "print(results[['params', 'mean_test_score', 'std_test_score']].head())"
   ]
  }
 ],
 "metadata": {
  "jupytext": {
   "cell_metadata_filter": "-all",
   "main_language": "python",
   "notebook_metadata_filter": "-all"
  }
 },
 "nbformat": 4,
 "nbformat_minor": 5
}
