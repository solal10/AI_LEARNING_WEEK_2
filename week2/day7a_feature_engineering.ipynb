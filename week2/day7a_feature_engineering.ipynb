{
 "cells": [
  {
   "cell_type": "markdown",
   "id": "3564bfd8",
   "metadata": {},
   "source": [
    "# Feature Engineering Avancé sur California Housing\n",
    "\n",
    "Dans ce notebook, nous allons explorer différentes techniques de feature engineering sur le dataset California Housing.\n",
    "Nous verrons notamment :\n",
    "- L'analyse exploratoire des données\n",
    "- La détection et le traitement des outliers\n",
    "- La réduction de la skewness\n",
    "- L'analyse des corrélations\n",
    "- La réduction de dimension avec PCA"
   ]
  },
  {
   "cell_type": "code",
   "execution_count": null,
   "id": "487176dd",
   "metadata": {},
   "outputs": [],
   "source": [
    "# Imports nécessaires\n",
    "import pandas as pd\n",
    "import numpy as np\n",
    "import matplotlib.pyplot as plt\n",
    "import seaborn as sns\n",
    "\n",
    "from sklearn.datasets import fetch_california_housing\n",
    "from sklearn.preprocessing import StandardScaler, PowerTransformer\n",
    "from sklearn.decomposition import PCA\n",
    "from sklearn.linear_model import LinearRegression\n",
    "from sklearn.model_selection import train_test_split\n",
    "from sklearn.metrics import mean_squared_error, r2_score"
   ]
  },
  {
   "cell_type": "markdown",
   "id": "32fec113",
   "metadata": {},
   "source": [
    "## 1. Chargement et Exploration des Données"
   ]
  },
  {
   "cell_type": "code",
   "execution_count": null,
   "id": "a497de9b",
   "metadata": {},
   "outputs": [],
   "source": [
    "# Chargement du dataset\n",
    "data = fetch_california_housing(as_frame=True)\n",
    "df = data.frame.copy()\n",
    "df.head()"
   ]
  },
  {
   "cell_type": "code",
   "execution_count": null,
   "id": "448e677c",
   "metadata": {},
   "outputs": [],
   "source": [
    "# Analyse rapide des données\n",
    "print(\"Information sur le dataset:\")\n",
    "df.info()\n",
    "print(\"\\nStatistiques descriptives:\")\n",
    "df.describe()"
   ]
  },
  {
   "cell_type": "markdown",
   "id": "3cd820d2",
   "metadata": {},
   "source": [
    "## 2. Analyse des Distributions"
   ]
  },
  {
   "cell_type": "code",
   "execution_count": null,
   "id": "4c3663b6",
   "metadata": {
    "lines_to_next_cell": 1
   },
   "outputs": [],
   "source": [
    "# Visualisation des distributions par histogrammes\n",
    "df.hist(bins=30, figsize=(15, 10))\n",
    "plt.tight_layout()\n",
    "plt.show()"
   ]
  },
  {
   "cell_type": "markdown",
   "id": "92ca7e85",
   "metadata": {},
   "source": [
    "## 3. Détection des Outliers avec IQR"
   ]
  },
  {
   "cell_type": "code",
   "execution_count": null,
   "id": "55cd0f1e",
   "metadata": {
    "lines_to_next_cell": 1
   },
   "outputs": [],
   "source": [
    "def detect_outliers_iqr(column):\n",
    "    \"\"\"\n",
    "    Détecte les outliers en utilisant la méthode IQR\n",
    "    \"\"\"\n",
    "    Q1 = column.quantile(0.25)\n",
    "    Q3 = column.quantile(0.75)\n",
    "    IQR = Q3 - Q1\n",
    "    lower = Q1 - 1.5 * IQR\n",
    "    upper = Q3 + 1.5 * IQR\n",
    "    return (column < lower) | (column > upper)"
   ]
  },
  {
   "cell_type": "code",
   "execution_count": null,
   "id": "e45c57fe",
   "metadata": {},
   "outputs": [],
   "source": [
    "# Analyse des outliers pour chaque feature\n",
    "outlier_summary = pd.DataFrame({col: detect_outliers_iqr(df[col]).sum() \n",
    "                             for col in df.select_dtypes(include=np.number)}.items(),\n",
    "                             columns=['Feature', 'Outlier_Count'])\n",
    "print(\"Résumé des outliers par feature:\")\n",
    "outlier_summary.sort_values(by='Outlier_Count', ascending=False)"
   ]
  },
  {
   "cell_type": "markdown",
   "id": "0813f082",
   "metadata": {},
   "source": [
    "## 4. Traitement de la Skewness"
   ]
  },
  {
   "cell_type": "code",
   "execution_count": null,
   "id": "15d0cbec",
   "metadata": {},
   "outputs": [],
   "source": [
    "# Identification des colonnes skewées\n",
    "skewed_cols = df.skew().sort_values(ascending=False)\n",
    "skewed_cols = skewed_cols[skewed_cols > 0.75]\n",
    "print(\"Colonnes avec une forte asymétrie (skewness > 0.75):\", skewed_cols.index.tolist())"
   ]
  },
  {
   "cell_type": "code",
   "execution_count": null,
   "id": "cdf32731",
   "metadata": {},
   "outputs": [],
   "source": [
    "# Application de la transformation Yeo-Johnson\n",
    "pt = PowerTransformer(method='yeo-johnson')\n",
    "df[skewed_cols.index] = pt.fit_transform(df[skewed_cols.index])"
   ]
  },
  {
   "cell_type": "markdown",
   "id": "bdfbb094",
   "metadata": {},
   "source": [
    "## 5. Analyse des Corrélations"
   ]
  },
  {
   "cell_type": "code",
   "execution_count": null,
   "id": "40b508ce",
   "metadata": {},
   "outputs": [],
   "source": [
    "# Matrice de corrélation\n",
    "plt.figure(figsize=(10,8))\n",
    "sns.heatmap(df.corr(), annot=True, cmap='coolwarm', fmt=\".2f\")\n",
    "plt.title(\"Matrice de corrélation\")\n",
    "plt.show()"
   ]
  },
  {
   "cell_type": "markdown",
   "id": "6bebbf0f",
   "metadata": {},
   "source": [
    "## 6. Réduction de Dimension avec PCA"
   ]
  },
  {
   "cell_type": "code",
   "execution_count": null,
   "id": "fd73ecd1",
   "metadata": {},
   "outputs": [],
   "source": [
    "# Standardisation et PCA\n",
    "scaler = StandardScaler()\n",
    "X_scaled = scaler.fit_transform(df)\n",
    "\n",
    "pca = PCA(n_components=2)\n",
    "X_pca = pca.fit_transform(X_scaled)\n",
    "\n",
    "plt.figure(figsize=(8,6))\n",
    "plt.scatter(X_pca[:, 0], X_pca[:, 1], alpha=0.5)\n",
    "plt.title(\"Projection PCA (2D)\")\n",
    "plt.xlabel(\"PC1\")\n",
    "plt.ylabel(\"PC2\")\n",
    "plt.grid()\n",
    "plt.show()\n",
    "\n",
    "print(\"Variance expliquée par PC1 + PC2:\", np.sum(pca.explained_variance_ratio_[:2]))"
   ]
  },
  {
   "cell_type": "markdown",
   "id": "12f1f80c",
   "metadata": {},
   "source": [
    "## 7. Modèle Simple (Avant/Après Feature Engineering)"
   ]
  },
  {
   "cell_type": "code",
   "execution_count": null,
   "id": "894d06c8",
   "metadata": {},
   "outputs": [],
   "source": [
    "# Préparation des données\n",
    "X = df.drop(columns='MedHouseVal')\n",
    "y = df['MedHouseVal']\n",
    "\n",
    "X_train, X_test, y_train, y_test = train_test_split(X, y, test_size=0.2, random_state=42)\n",
    "\n",
    "# Entraînement et évaluation du modèle\n",
    "model = LinearRegression()\n",
    "model.fit(X_train, y_train)\n",
    "y_pred = model.predict(X_test)\n",
    "\n",
    "print(\"Métriques d'évaluation:\")\n",
    "print(\"RMSE:\", mean_squared_error(y_test, y_pred, squared=False))\n",
    "print(\"R² Score:\", r2_score(y_test, y_pred))"
   ]
  }
 ],
 "metadata": {
  "jupytext": {
   "cell_metadata_filter": "-all",
   "main_language": "python",
   "notebook_metadata_filter": "-all"
  }
 },
 "nbformat": 4,
 "nbformat_minor": 5
}
